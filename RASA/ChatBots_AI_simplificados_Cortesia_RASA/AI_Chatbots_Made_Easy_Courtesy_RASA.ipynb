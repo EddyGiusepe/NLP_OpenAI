{
 "cells": [
  {
   "attachments": {},
   "cell_type": "markdown",
   "metadata": {},
   "source": [
    "<h1 align=\"center\">AI Chatbots Made Easy, Courtesy RASA</h1>"
   ]
  },
  {
   "attachments": {},
   "cell_type": "markdown",
   "metadata": {},
   "source": [
    "Data Scientist.: Dr.Eddy Giusepe Chirinos Isidro"
   ]
  },
  {
   "attachments": {},
   "cell_type": "markdown",
   "metadata": {},
   "source": [
    "Este tutorial é um resumo do maravilhoso trabalho de [Lakshmi Ajay](https://towardsdatascience.com/ai-chatbots-made-easy-courtesy-rasa-8ecdc2853e66). Seguiremos o passo a passo, fornecido por ela, para criar um chatbot de críquete usando [RASA](https://rasa.com/docs/rasa/) e Python. O foco do artigo é entender os fundamentos do `RASA` e mostrar a rapidez com que se pode começar a trabalhar com um bot."
   ]
  },
  {
   "attachments": {},
   "cell_type": "markdown",
   "metadata": {},
   "source": [
    "# O que e por que da RASA"
   ]
  },
  {
   "attachments": {},
   "cell_type": "markdown",
   "metadata": {},
   "source": [
    "# O que é RASA?"
   ]
  },
  {
   "attachments": {},
   "cell_type": "markdown",
   "metadata": {},
   "source": [
    "O [RASA](https://rasa.com/docs/rasa/) é uma ferramenta de código aberto que usa compreensão de linguagem natural para desenvolver chatbots baseados em IA. Ele fornece uma estrutura que pode ser usada para criar chatbots com habilidades mínimas de codificação. O RASA permite que os usuários treinem e ajustem (`tune`) o modelo por meio de várias configurações. Sua facilidade de uso tornou uma opção popular entre desenvolvedores em todo o mundo para criar um chatbot de nível industrial."
   ]
  },
  {
   "attachments": {},
   "cell_type": "markdown",
   "metadata": {},
   "source": [
    "# Por que RASA?"
   ]
  },
  {
   "attachments": {},
   "cell_type": "markdown",
   "metadata": {},
   "source": [
    "* É um framework de código aberto e gratuito\n",
    "* É fácil começar\n",
    "* Conhecimento prévio de codificação não é necessário para construir um bot básico"
   ]
  },
  {
   "attachments": {},
   "cell_type": "markdown",
   "metadata": {},
   "source": [
    "# Framework RASA"
   ]
  },
  {
   "attachments": {},
   "cell_type": "markdown",
   "metadata": {},
   "source": [
    "Existem duas atividades principais que qualquer chatbot deve realizar: `primeiro`, ele deve entender o que o usuário está tentando dizer e, em seguida, fornecer ao usuário uma resposta significativa. O RASA usa o `RASA NLU` e o `RASA core` para conseguir isso."
   ]
  },
  {
   "attachments": {},
   "cell_type": "markdown",
   "metadata": {},
   "source": [
    "![](https://miro.medium.com/v2/resize:fit:1100/format:webp/1*Xr4-QZ-gjPDbvZtq65Ygvg.png)"
   ]
  },
  {
   "cell_type": "code",
   "execution_count": null,
   "metadata": {},
   "outputs": [],
   "source": []
  },
  {
   "cell_type": "code",
   "execution_count": null,
   "metadata": {},
   "outputs": [],
   "source": []
  },
  {
   "cell_type": "code",
   "execution_count": null,
   "metadata": {},
   "outputs": [],
   "source": []
  },
  {
   "cell_type": "code",
   "execution_count": null,
   "metadata": {},
   "outputs": [],
   "source": []
  },
  {
   "cell_type": "code",
   "execution_count": null,
   "metadata": {},
   "outputs": [],
   "source": []
  },
  {
   "cell_type": "code",
   "execution_count": null,
   "metadata": {},
   "outputs": [],
   "source": []
  },
  {
   "cell_type": "code",
   "execution_count": null,
   "metadata": {},
   "outputs": [],
   "source": []
  }
 ],
 "metadata": {
  "language_info": {
   "name": "python"
  },
  "orig_nbformat": 4
 },
 "nbformat": 4,
 "nbformat_minor": 2
}
